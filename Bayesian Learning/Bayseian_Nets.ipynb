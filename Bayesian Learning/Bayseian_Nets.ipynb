{
 "cells": [
  {
   "cell_type": "code",
   "execution_count": 23,
   "metadata": {},
   "outputs": [],
   "source": [
    "import numpy as np\n",
    "import pandas as pd\n",
    "from pgmpy.models import BayesianNetwork\n",
    "from pgmpy.metrics import log_likelihood_score\n",
    "from pgmpy.estimators import ParameterEstimator\n",
    "from pgmpy.factors.discrete.CPD import TabularCPD\n",
    "from pgmpy.estimators import MaximumLikelihoodEstimator"
   ]
  },
  {
   "cell_type": "code",
   "execution_count": 24,
   "metadata": {},
   "outputs": [
    {
     "data": {
      "text/html": [
       "<div>\n",
       "<style scoped>\n",
       "    .dataframe tbody tr th:only-of-type {\n",
       "        vertical-align: middle;\n",
       "    }\n",
       "\n",
       "    .dataframe tbody tr th {\n",
       "        vertical-align: top;\n",
       "    }\n",
       "\n",
       "    .dataframe thead th {\n",
       "        text-align: right;\n",
       "    }\n",
       "</style>\n",
       "<table border=\"1\" class=\"dataframe\">\n",
       "  <thead>\n",
       "    <tr style=\"text-align: right;\">\n",
       "      <th></th>\n",
       "      <th>Age</th>\n",
       "      <th>Income</th>\n",
       "      <th>Education</th>\n",
       "      <th>Residency</th>\n",
       "      <th>Transport</th>\n",
       "    </tr>\n",
       "  </thead>\n",
       "  <tbody>\n",
       "    <tr>\n",
       "      <th>0</th>\n",
       "      <td>middle</td>\n",
       "      <td>low</td>\n",
       "      <td>high</td>\n",
       "      <td>big</td>\n",
       "      <td>train</td>\n",
       "    </tr>\n",
       "    <tr>\n",
       "      <th>1</th>\n",
       "      <td>young</td>\n",
       "      <td>low</td>\n",
       "      <td>low</td>\n",
       "      <td>big</td>\n",
       "      <td>car</td>\n",
       "    </tr>\n",
       "    <tr>\n",
       "      <th>2</th>\n",
       "      <td>middle</td>\n",
       "      <td>low</td>\n",
       "      <td>low</td>\n",
       "      <td>small</td>\n",
       "      <td>car</td>\n",
       "    </tr>\n",
       "    <tr>\n",
       "      <th>3</th>\n",
       "      <td>old</td>\n",
       "      <td>low</td>\n",
       "      <td>high</td>\n",
       "      <td>big</td>\n",
       "      <td>car</td>\n",
       "    </tr>\n",
       "    <tr>\n",
       "      <th>4</th>\n",
       "      <td>middle</td>\n",
       "      <td>medium</td>\n",
       "      <td>high</td>\n",
       "      <td>small</td>\n",
       "      <td>car</td>\n",
       "    </tr>\n",
       "  </tbody>\n",
       "</table>\n",
       "</div>"
      ],
      "text/plain": [
       "      Age  Income Education Residency Transport\n",
       "0  middle     low      high       big     train\n",
       "1   young     low       low       big       car\n",
       "2  middle     low       low     small       car\n",
       "3     old     low      high       big       car\n",
       "4  middle  medium      high     small       car"
      ]
     },
     "execution_count": 24,
     "metadata": {},
     "output_type": "execute_result"
    }
   ],
   "source": [
    "df = pd.read_csv(\"transport.csv\")\n",
    "df.drop(\"Unnamed: 0\", inplace=True, axis=1)\n",
    "df.head()"
   ]
  },
  {
   "cell_type": "code",
   "execution_count": 26,
   "metadata": {},
   "outputs": [],
   "source": [
    "model = BayesianNetwork([(\"Age\", \"Education\"), (\"Education\", \"Income\"), (\"Income\", \"Transport\"), (\"Residency\", \"Transport\")])"
   ]
  },
  {
   "cell_type": "code",
   "execution_count": 27,
   "metadata": {},
   "outputs": [
    {
     "name": "stdout",
     "output_type": "stream",
     "text": [
      "\n",
      "         count\n",
      "Age          \n",
      "middle    538\n",
      "old       200\n",
      "young     262\n",
      "\n",
      "            count\n",
      "Residency       \n",
      "big          638\n",
      "small        362\n",
      "\n",
      " Age       middle  old young\n",
      "Education                  \n",
      "high         172   69    83\n",
      "low          366  131   179\n",
      "\n",
      " Education high  low\n",
      "Income             \n",
      "high        64   66\n",
      "low        141  440\n",
      "medium     119  170\n",
      "\n",
      " Income    high        low       medium      \n",
      "Residency  big small  big small    big small\n",
      "Transport                                   \n",
      "car         41    46  167    98     84    81\n",
      "train       34     9  232    84     80    44\n"
     ]
    }
   ],
   "source": [
    "pe = ParameterEstimator(model, df)\n",
    "print(\"\\n\", pe.state_counts('Age')) # Unconditional\n",
    "print(\"\\n\", pe.state_counts('Residency')) # Unconditional\n",
    "print(\"\\n\", pe.state_counts('Education')) # Conditional\n",
    "print(\"\\n\", pe.state_counts('Income')) # Conditional\n",
    "print(\"\\n\", pe.state_counts('Transport')) # Conditional\n"
   ]
  },
  {
   "cell_type": "code",
   "execution_count": 28,
   "metadata": {},
   "outputs": [],
   "source": [
    "def print_full(cpd):\n",
    "    backup = TabularCPD._truncate_strtable\n",
    "    TabularCPD._truncate_strtable = lambda self, x: x\n",
    "    print(cpd)\n",
    "    TabularCPD._truncate_strtable = backup"
   ]
  },
  {
   "cell_type": "code",
   "execution_count": 29,
   "metadata": {},
   "outputs": [
    {
     "name": "stdout",
     "output_type": "stream",
     "text": [
      "+-------------+-------+\n",
      "| Age(middle) | 0.538 |\n",
      "+-------------+-------+\n",
      "| Age(old)    | 0.2   |\n",
      "+-------------+-------+\n",
      "| Age(young)  | 0.262 |\n",
      "+-------------+-------+\n",
      "+------------------+-------+\n",
      "| Residency(big)   | 0.638 |\n",
      "+------------------+-------+\n",
      "| Residency(small) | 0.362 |\n",
      "+------------------+-------+\n",
      "+-----------------+---------------------+----------+---------------------+\n",
      "| Age             | Age(middle)         | Age(old) | Age(young)          |\n",
      "+-----------------+---------------------+----------+---------------------+\n",
      "| Education(high) | 0.31970260223048325 | 0.345    | 0.31679389312977096 |\n",
      "+-----------------+---------------------+----------+---------------------+\n",
      "| Education(low)  | 0.6802973977695167  | 0.655    | 0.683206106870229   |\n",
      "+-----------------+---------------------+----------+---------------------+\n",
      "+----------------+---------------------+---------------------+\n",
      "| Education      | Education(high)     | Education(low)      |\n",
      "+----------------+---------------------+---------------------+\n",
      "| Income(high)   | 0.19753086419753085 | 0.09763313609467456 |\n",
      "+----------------+---------------------+---------------------+\n",
      "| Income(low)    | 0.4351851851851852  | 0.650887573964497   |\n",
      "+----------------+---------------------+---------------------+\n",
      "| Income(medium) | 0.36728395061728397 | 0.2514792899408284  |\n",
      "+----------------+---------------------+---------------------+\n",
      "+------------------+--------------------+---------------------+---------------------+---------------------+--------------------+------------------+\n",
      "| Income           | Income(high)       | Income(high)        | Income(low)         | Income(low)         | Income(medium)     | Income(medium)   |\n",
      "+------------------+--------------------+---------------------+---------------------+---------------------+--------------------+------------------+\n",
      "| Residency        | Residency(big)     | Residency(small)    | Residency(big)      | Residency(small)    | Residency(big)     | Residency(small) |\n",
      "+------------------+--------------------+---------------------+---------------------+---------------------+--------------------+------------------+\n",
      "| Transport(car)   | 0.5466666666666666 | 0.8363636363636363  | 0.41854636591478694 | 0.5384615384615384  | 0.5121951219512195 | 0.648            |\n",
      "+------------------+--------------------+---------------------+---------------------+---------------------+--------------------+------------------+\n",
      "| Transport(train) | 0.4533333333333333 | 0.16363636363636364 | 0.581453634085213   | 0.46153846153846156 | 0.4878048780487805 | 0.352            |\n",
      "+------------------+--------------------+---------------------+---------------------+---------------------+--------------------+------------------+\n",
      "None\n"
     ]
    }
   ],
   "source": [
    "mle = MaximumLikelihoodEstimator(model, df)\n",
    "print(mle.estimate_cpd(\"Age\"))\n",
    "print(mle.estimate_cpd(\"Residency\"))\n",
    "print(mle.estimate_cpd(\"Education\"))\n",
    "print(mle.estimate_cpd(\"Income\"))\n",
    "print(print_full(mle.estimate_cpd(\"Transport\")))"
   ]
  },
  {
   "cell_type": "code",
   "execution_count": 31,
   "metadata": {},
   "outputs": [],
   "source": [
    "model.fit(df, estimator=MaximumLikelihoodEstimator)"
   ]
  },
  {
   "cell_type": "code",
   "execution_count": 32,
   "metadata": {},
   "outputs": [
    {
     "data": {
      "text/plain": [
       "-3875.6797856721137"
      ]
     },
     "execution_count": 32,
     "metadata": {},
     "output_type": "execute_result"
    }
   ],
   "source": [
    "log_likelihood_score(model, df)"
   ]
  }
 ],
 "metadata": {
  "kernelspec": {
   "display_name": "base",
   "language": "python",
   "name": "python3"
  },
  "language_info": {
   "codemirror_mode": {
    "name": "ipython",
    "version": 3
   },
   "file_extension": ".py",
   "mimetype": "text/x-python",
   "name": "python",
   "nbconvert_exporter": "python",
   "pygments_lexer": "ipython3",
   "version": "3.12.7"
  }
 },
 "nbformat": 4,
 "nbformat_minor": 2
}
