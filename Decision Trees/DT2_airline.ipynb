{
 "cells": [
  {
   "cell_type": "markdown",
   "metadata": {},
   "source": [
    "# Data Science Specialization (Spring 2025, RUC)\n",
    "## Workshop: Decision Trees\n",
    "## Exercise Part II"
   ]
  },
  {
   "cell_type": "markdown",
   "metadata": {},
   "source": [
    "## 1. Imports"
   ]
  },
  {
   "cell_type": "code",
   "execution_count": null,
   "metadata": {},
   "outputs": [],
   "source": [
    "import pandas as pd\n",
    "\n",
    "from sklearn.tree import DecisionTreeClassifier\n",
    "from sklearn.model_selection import train_test_split\n",
    "from sklearn import metrics"
   ]
  },
  {
   "cell_type": "markdown",
   "metadata": {},
   "source": [
    "## 2. Data Preparation"
   ]
  },
  {
   "cell_type": "code",
   "execution_count": null,
   "metadata": {},
   "outputs": [],
   "source": [
    "train = pd.read_csv(r'airline_kaggle_train.csv')\n",
    "test = pd.read_csv(r'airline_kaggle_test.csv')\n",
    "train.head()"
   ]
  },
  {
   "cell_type": "code",
   "execution_count": null,
   "metadata": {},
   "outputs": [],
   "source": [
    "train.set_index('id', inplace=True)\n",
    "test.set_index('id', inplace=True)\n",
    "train.info()\n",
    "test.info()"
   ]
  },
  {
   "cell_type": "code",
   "execution_count": null,
   "metadata": {},
   "outputs": [],
   "source": [
    "train.columns"
   ]
  },
  {
   "cell_type": "code",
   "execution_count": null,
   "metadata": {},
   "outputs": [],
   "source": [
    "feature_cols = train.columns.drop(['satisfaction'])\n",
    "feature_cols"
   ]
  },
  {
   "cell_type": "code",
   "execution_count": null,
   "metadata": {},
   "outputs": [],
   "source": [
    "train.describe()"
   ]
  },
  {
   "cell_type": "code",
   "execution_count": null,
   "metadata": {},
   "outputs": [],
   "source": [
    "# Show values for categorical features\n",
    "for feature in ['Gender', 'Customer Type', 'Type of Travel', 'Class', 'satisfaction']:\n",
    "    print(\"'{0}' values: {1}:\\r\".format(feature, train[feature].unique()))"
   ]
  },
  {
   "cell_type": "code",
   "execution_count": null,
   "metadata": {},
   "outputs": [],
   "source": [
    "# Convert Gender, Customer Type and Type of Travel to numeric by factorization\n",
    "for feature in ['Gender', 'Customer Type', 'Type of Travel']:\n",
    "    train[feature] = pd.factorize(train[feature])[0]\n",
    "    test[feature] = pd.factorize(test[feature])[0]\n",
    "\n",
    "train.info()\n",
    "test.info()"
   ]
  },
  {
   "cell_type": "code",
   "execution_count": null,
   "metadata": {},
   "outputs": [],
   "source": [
    "# Use one-hot encoding for Class (only remaining object type feature)\n",
    "train = pd.get_dummies(train, columns=['Class'])\n",
    "test = pd.get_dummies(test, columns=['Class'])\n",
    "\n",
    "train.info()\n",
    "test.info()"
   ]
  },
  {
   "cell_type": "code",
   "execution_count": null,
   "metadata": {},
   "outputs": [],
   "source": [
    "# Drop instances with NaN (or should we set them to zero?)\n",
    "train = train.dropna()\n",
    "test = test.dropna()\n",
    "\n",
    "train.info()\n",
    "test.info()"
   ]
  },
  {
   "cell_type": "code",
   "execution_count": null,
   "metadata": {},
   "outputs": [],
   "source": [
    "feature_cols = train.columns.drop(['satisfaction'])\n",
    "\n",
    "X_train = train[feature_cols]\n",
    "y_train = train.satisfaction\n",
    "\n",
    "X_test = test[feature_cols]\n",
    "y_test = test.satisfaction"
   ]
  },
  {
   "cell_type": "markdown",
   "metadata": {},
   "source": [
    "## 3. Training a Single Decision Tree"
   ]
  },
  {
   "cell_type": "code",
   "execution_count": null,
   "metadata": {},
   "outputs": [],
   "source": [
    "dtree = DecisionTreeClassifier(criterion='entropy')\n",
    "dtree = dtree.fit(X_train, y_train)\n",
    "y_pred = dtree.predict(X_test)\n",
    "print(\"Depth:\", dtree.get_depth())\n",
    "print(\"Leaves:\", dtree.get_n_leaves())\n",
    "print(\"Accuracy:\", metrics.accuracy_score(y_test, y_pred))\n",
    "print(\"Recall:\", metrics.recall_score(y_test, y_pred, pos_label='satisfied'))\n",
    "print(\"Precision:\", metrics.precision_score(y_test, y_pred, pos_label='satisfied'))"
   ]
  },
  {
   "cell_type": "code",
   "execution_count": null,
   "metadata": {},
   "outputs": [],
   "source": [
    "from sklearn import tree\n",
    "from sklearn.tree import export_graphviz\n",
    "import graphviz\n",
    "\n",
    "export_graphviz(dtree, out_file='airline_dt.dot',\n",
    "                class_names=['neudis', 'satisfied'],\n",
    "                feature_names=feature_cols,\n",
    "                impurity=False,\n",
    "                filled=True)\n",
    "\n",
    "! dot -Tpng airline_dt.dot -o airline_dt.png\n",
    "\n",
    "from IPython import display\n",
    "display.Image(\"airline_dt.png\")"
   ]
  },
  {
   "cell_type": "markdown",
   "metadata": {},
   "source": [
    "## 4. Vary Metric and Other Parameters"
   ]
  },
  {
   "cell_type": "code",
   "execution_count": null,
   "metadata": {},
   "outputs": [],
   "source": [
    "criteria = ['gini', 'entropy']\n",
    "for c in criteria:\n",
    "    for md in range(2, 8):\n",
    "        # Model intializing\n",
    "        dtree = DecisionTreeClassifier(criterion=c, max_depth=md)\n",
    "        \n",
    "        # Model training/fitting\n",
    "        dtree.fit(X_train, y_train)\n",
    "               \n",
    "        # Model validation/test\n",
    "        y_pred = dtree.predict(X_test)\n",
    "        \n",
    "        print(\"criterion={0}, max_depth={1}:\\r\".format(c, md))\n",
    "        print(\"Accuracy: {}\\r\\n\".format(metrics.accuracy_score(y_test, y_pred)))"
   ]
  },
  {
   "cell_type": "markdown",
   "metadata": {},
   "source": [
    "## 5. Ensemble Methods"
   ]
  },
  {
   "cell_type": "code",
   "execution_count": null,
   "metadata": {},
   "outputs": [],
   "source": [
    "from sklearn.ensemble import RandomForestClassifier\n",
    "\n",
    "forest = RandomForestClassifier(criterion='entropy', max_features=10, n_estimators=100, random_state=0) \n",
    "forest.fit(X_train, y_train)\n",
    "y_pred = forest.predict(X_test)\n",
    "\n",
    "print(\"Accuracy of Random Forest: {}\".format(metrics.accuracy_score(y_test, y_pred)))"
   ]
  },
  {
   "cell_type": "code",
   "execution_count": null,
   "metadata": {
    "scrolled": true
   },
   "outputs": [],
   "source": [
    "from sklearn.ensemble import ExtraTreesClassifier\n",
    "\n",
    "forest2 = ExtraTreesClassifier(criterion='gini', n_estimators=10, max_depth=None,  min_samples_split=2, random_state=0)\n",
    "forest2.fit(X_train, y_train)\n",
    "y_pred = forest2.predict(X_test)\n",
    "\n",
    "print(\"Accuracy of Extra Trees: {}\".format(metrics.accuracy_score(y_test, y_pred)))"
   ]
  },
  {
   "cell_type": "markdown",
   "metadata": {},
   "source": [
    "The accuracy values are not overwhelming. Determine what parameter values the classifiers take, and vary them!"
   ]
  }
 ],
 "metadata": {
  "kernelspec": {
   "display_name": "Python 3 (ipykernel)",
   "language": "python",
   "name": "python3"
  },
  "language_info": {
   "codemirror_mode": {
    "name": "ipython",
    "version": 3
   },
   "file_extension": ".py",
   "mimetype": "text/x-python",
   "name": "python",
   "nbconvert_exporter": "python",
   "pygments_lexer": "ipython3",
   "version": "3.12.7"
  }
 },
 "nbformat": 4,
 "nbformat_minor": 4
}
